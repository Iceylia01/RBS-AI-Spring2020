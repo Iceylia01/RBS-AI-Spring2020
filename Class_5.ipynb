{
 "cells": [
  {
   "cell_type": "markdown",
   "metadata": {},
   "source": [
    "# Importing Libraries"
   ]
  },
  {
   "cell_type": "code",
   "execution_count": null,
   "metadata": {},
   "outputs": [],
   "source": [
    "import seaborn as sns\n",
    "import pandas as pd\n",
    "import numpy as np"
   ]
  },
  {
   "cell_type": "markdown",
   "metadata": {},
   "source": [
    "# Importing data"
   ]
  },
  {
   "cell_type": "code",
   "execution_count": 25,
   "metadata": {},
   "outputs": [],
   "source": [
    "data = pd.read_csv(\"GoSales.csv\")"
   ]
  },
  {
   "cell_type": "code",
   "execution_count": 26,
   "metadata": {},
   "outputs": [
    {
     "data": {
      "text/html": [
       "<div>\n",
       "<style scoped>\n",
       "    .dataframe tbody tr th:only-of-type {\n",
       "        vertical-align: middle;\n",
       "    }\n",
       "\n",
       "    .dataframe tbody tr th {\n",
       "        vertical-align: top;\n",
       "    }\n",
       "\n",
       "    .dataframe thead th {\n",
       "        text-align: right;\n",
       "    }\n",
       "</style>\n",
       "<table border=\"1\" class=\"dataframe\">\n",
       "  <thead>\n",
       "    <tr style=\"text-align: right;\">\n",
       "      <th></th>\n",
       "      <th>GENDER</th>\n",
       "      <th>AGE</th>\n",
       "      <th>MARITAL_STATUS</th>\n",
       "      <th>PROFESSION</th>\n",
       "      <th>IS_TENT</th>\n",
       "      <th>PRODUCT_LINE</th>\n",
       "      <th>PURCHASE_AMOUNT</th>\n",
       "    </tr>\n",
       "  </thead>\n",
       "  <tbody>\n",
       "    <tr>\n",
       "      <th>0</th>\n",
       "      <td>M</td>\n",
       "      <td>27</td>\n",
       "      <td>Single</td>\n",
       "      <td>Professional</td>\n",
       "      <td>True</td>\n",
       "      <td>Camping Equipment</td>\n",
       "      <td>144.78</td>\n",
       "    </tr>\n",
       "    <tr>\n",
       "      <th>1</th>\n",
       "      <td>F</td>\n",
       "      <td>39</td>\n",
       "      <td>Married</td>\n",
       "      <td>Other</td>\n",
       "      <td>False</td>\n",
       "      <td>Outdoor Protection</td>\n",
       "      <td>144.83</td>\n",
       "    </tr>\n",
       "    <tr>\n",
       "      <th>2</th>\n",
       "      <td>F</td>\n",
       "      <td>39</td>\n",
       "      <td>Married</td>\n",
       "      <td>Other</td>\n",
       "      <td>False</td>\n",
       "      <td>Outdoor Protection</td>\n",
       "      <td>137.37</td>\n",
       "    </tr>\n",
       "    <tr>\n",
       "      <th>3</th>\n",
       "      <td>F</td>\n",
       "      <td>56</td>\n",
       "      <td>Unspecified</td>\n",
       "      <td>Hospitality</td>\n",
       "      <td>False</td>\n",
       "      <td>Personal Accessories</td>\n",
       "      <td>92.61</td>\n",
       "    </tr>\n",
       "    <tr>\n",
       "      <th>4</th>\n",
       "      <td>M</td>\n",
       "      <td>45</td>\n",
       "      <td>Married</td>\n",
       "      <td>Retired</td>\n",
       "      <td>False</td>\n",
       "      <td>Golf Equipment</td>\n",
       "      <td>119.04</td>\n",
       "    </tr>\n",
       "  </tbody>\n",
       "</table>\n",
       "</div>"
      ],
      "text/plain": [
       "  GENDER  AGE MARITAL_STATUS    PROFESSION  IS_TENT          PRODUCT_LINE  \\\n",
       "0      M   27         Single  Professional     True     Camping Equipment   \n",
       "1      F   39        Married         Other    False    Outdoor Protection   \n",
       "2      F   39        Married         Other    False    Outdoor Protection   \n",
       "3      F   56    Unspecified   Hospitality    False  Personal Accessories   \n",
       "4      M   45        Married       Retired    False        Golf Equipment   \n",
       "\n",
       "   PURCHASE_AMOUNT  \n",
       "0           144.78  \n",
       "1           144.83  \n",
       "2           137.37  \n",
       "3            92.61  \n",
       "4           119.04  "
      ]
     },
     "execution_count": 26,
     "metadata": {},
     "output_type": "execute_result"
    }
   ],
   "source": [
    "data.head() # head function gives us first 5 instances of the data set there is another method tail which give us last 5 instances of dataset"
   ]
  },
  {
   "cell_type": "code",
   "execution_count": 27,
   "metadata": {},
   "outputs": [],
   "source": [
    "data.PURCHASE_AMOUNT = data.PURCHASE_AMOUNT.astype(int) #changing data type of Purchase_amount to integer"
   ]
  },
  {
   "cell_type": "code",
   "execution_count": 28,
   "metadata": {},
   "outputs": [],
   "source": [
    "data = pd.DataFrame(data) #converting into dataframe"
   ]
  },
  {
   "cell_type": "code",
   "execution_count": 29,
   "metadata": {},
   "outputs": [],
   "source": [
    "#Converting strings to integer\n",
    "data = data.replace({'M' : 1})\n",
    "data = data.replace({'F' :0})\n",
    "data = data.replace({'Single' :0})\n",
    "data = data.replace({'Married' :1})\n",
    "data = data.replace({'Unspecified' :2})\n",
    "data = data.replace({'Professional':0})\n",
    "data = data.replace({'Other':1})\n",
    "data = data.replace({'Hospitality':2})\n",
    "data = data.replace({'Retired':3})\n",
    "data = data.replace({'Retail':4})\n",
    "data = data.replace({'Sales':5})\n",
    "data = data.replace({'Trades':6})\n",
    "data = data.replace({'Student':7})\n",
    "data = data.replace({'Executive':8})\n",
    "data = data.replace({True:1})\n",
    "data = data.replace({False:0})\n",
    "data = data.replace({'Camping Equipment':0})\n",
    "data = data.replace({'Outdoor Protection':1})\n",
    "data = data.replace({'Personal Accessories':2})\n",
    "data = data.replace({'Golf Equipment':3})\n",
    "data = data.replace({'Mountaineering Equipment':4})\n",
    "\n",
    "\n"
   ]
  },
  {
   "cell_type": "markdown",
   "metadata": {},
   "source": [
    "# Visualization"
   ]
  },
  {
   "cell_type": "markdown",
   "metadata": {},
   "source": [
    "<h3> Barplot </h3>"
   ]
  },
  {
   "cell_type": "code",
   "execution_count": 30,
   "metadata": {},
   "outputs": [
    {
     "data": {
      "text/plain": [
       "<matplotlib.axes._subplots.AxesSubplot at 0x25727619710>"
      ]
     },
     "execution_count": 30,
     "metadata": {},
     "output_type": "execute_result"
    },
    {
     "data": {
      "image/png": "[encoded data removed]",
      "text/plain": [
       "<Figure size 432x288 with 1 Axes>"
      ]
     },
     "metadata": {
      "needs_background": "light"
     },
     "output_type": "display_data"
    }
   ],
   "source": [
    "sns.barplot(x='GENDER',y = data.PURCHASE_AMOUNT,data=data) "
   ]
  },
  {
   "cell_type": "markdown",
   "metadata": {},
   "source": [
    "<h3> Countplot</h3>\n"
   ]
  },
  {
   "cell_type": "code",
   "execution_count": 31,
   "metadata": {},
   "outputs": [
    {
     "data": {
      "text/plain": [
       "<matplotlib.axes._subplots.AxesSubplot at 0x2572793b668>"
      ]
     },
     "execution_count": 31,
     "metadata": {},
     "output_type": "execute_result"
    },
    {
     "data": {
      "image/png": "[encoded data removed]",
      "text/plain": [
       "<Figure size 432x288 with 1 Axes>"
      ]
     },
     "metadata": {
      "needs_background": "light"
     },
     "output_type": "display_data"
    }
   ],
   "source": [
    "sns.countplot(x='GENDER',data=data,hue='MARITAL_STATUS') #countplot tells us that there are more females married than males married"
   ]
  },
  {
   "cell_type": "code",
   "execution_count": null,
   "metadata": {},
   "outputs": [],
   "source": []
  }
 ],
 "metadata": {
  "kernelspec": {
   "display_name": "Python 3",
   "language": "python",
   "name": "python3"
  },
  "language_info": {
   "codemirror_mode": {
    "name": "ipython",
    "version": 3
   },
   "file_extension": ".py",
   "mimetype": "text/x-python",
   "name": "python",
   "nbconvert_exporter": "python",
   "pygments_lexer": "ipython3",
   "version": "3.7.3"
  }
 },
 "nbformat": 4,
 "nbformat_minor": 2
}
